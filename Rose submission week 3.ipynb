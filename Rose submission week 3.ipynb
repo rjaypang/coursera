{
 "cells": [
  {
   "cell_type": "markdown",
   "metadata": {},
   "source": [
    "# My Jupyter Notebook on IBM Data Science Experience"
   ]
  },
  {
   "cell_type": "markdown",
   "metadata": {},
   "source": [
    "**Rossmary Jay Pang**  \n",
    "Chemical Engineer"
   ]
  },
  {
   "cell_type": "markdown",
   "metadata": {},
   "source": [
    "*I am interested in data science because it's a career for the future  \n",
    "The skills I am developing will help me to land better jobs in my career*"
   ]
  },
  {
   "cell_type": "markdown",
   "metadata": {},
   "source": [
    "### In the next cell, my code will assign a value to 'x' and then will find the double of 'x'"
   ]
  },
  {
   "cell_type": "code",
   "execution_count": 7,
   "metadata": {},
   "outputs": [
    {
     "data": {
      "text/plain": [
       "10"
      ]
     },
     "execution_count": 7,
     "metadata": {},
     "output_type": "execute_result"
    }
   ],
   "source": [
    " x = 5\n",
    "x * 2"
   ]
  },
  {
   "cell_type": "markdown",
   "metadata": {},
   "source": [
    "|espanol | english | Francais|\n",
    "|---|---|---|\n",
    "|*hola* | `hello` | **Bonjour**|\n",
    "|cursiva | code style | negrita  \n",
    "\n",
    "**Ingredients for cookies**\n",
    "1. Flour\n",
    "3. Butter\n",
    "8. Eggs\n",
    "10. Sugar\n",
    "\n",
    "···Please note that the sugar has to be white sugar.··\n",
    "\n",
    "+ my indentation sucks\n",
    "- maybe i'm not using the right symbol\n",
    "* I don't know\n",
    "\n",
    "\n",
    "![alt text](https://urbanfonts-files.s3.amazonaws.com/samples/50976/641770514b92191f540a1b66dd7cf1ec.jpg \"insert name\")\n"
   ]
  }
 ],
 "metadata": {
  "kernelspec": {
   "display_name": "Python",
   "language": "python",
   "name": "conda-env-python-py"
  },
  "language_info": {
   "codemirror_mode": {
    "name": "ipython",
    "version": 3
   },
   "file_extension": ".py",
   "mimetype": "text/x-python",
   "name": "python",
   "nbconvert_exporter": "python",
   "pygments_lexer": "ipython3",
   "version": "3.6.10"
  }
 },
 "nbformat": 4,
 "nbformat_minor": 4
}
